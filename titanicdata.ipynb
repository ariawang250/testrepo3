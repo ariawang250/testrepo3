import pandas as pd

Location = 'titanic3.xls'
df = pd.read_excel(location)
df.head()
